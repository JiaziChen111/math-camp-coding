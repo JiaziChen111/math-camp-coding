{
 "cells": [
  {
   "cell_type": "markdown",
   "metadata": {},
   "source": [
    "Solutions to Julia exercises in the other notebook.\n",
    "\n",
    "(There may well be better ways to do these!)"
   ]
  },
  {
   "cell_type": "code",
   "execution_count": 1,
   "metadata": {},
   "outputs": [],
   "source": [
    "# Set seed\n",
    "using Random\n",
    "Random.seed!(1234);"
   ]
  },
  {
   "cell_type": "markdown",
   "metadata": {},
   "source": [
    "# FizzBuzz"
   ]
  },
  {
   "cell_type": "code",
   "execution_count": 2,
   "metadata": {},
   "outputs": [
    {
     "name": "stdout",
     "output_type": "stream",
     "text": [
      "1 2 Fizz 4 Buzz Fizz 7 8 Fizz Buzz 11 Fizz 13 14 FizzBuzz 16 17 Fizz 19 Buzz Fizz 22 23 Fizz Buzz 26 Fizz 28 29 FizzBuzz 31 32 Fizz 34 Buzz Fizz 37 38 Fizz Buzz 41 Fizz 43 44 FizzBuzz 46 47 Fizz 49 Buzz Fizz 52 53 Fizz Buzz 56 Fizz 58 59 FizzBuzz 61 62 Fizz 64 Buzz Fizz 67 68 Fizz Buzz 71 Fizz 73 74 FizzBuzz 76 77 Fizz 79 Buzz Fizz 82 83 Fizz Buzz 86 Fizz 88 89 FizzBuzz 91 92 Fizz 94 Buzz Fizz 97 98 Fizz Buzz "
     ]
    }
   ],
   "source": [
    "for i in 1:100\n",
    "    if mod(i, 3*5) == 0\n",
    "        print(\"FizzBuzz \")\n",
    "    elseif mod(i, 3) == 0\n",
    "        print(\"Fizz \")\n",
    "    elseif mod(i, 5) == 0\n",
    "        print(\"Buzz \")\n",
    "    else\n",
    "        print(\"$i \")\n",
    "    end\n",
    "end"
   ]
  },
  {
   "cell_type": "markdown",
   "metadata": {},
   "source": [
    "# AR(1): simulation"
   ]
  },
  {
   "cell_type": "code",
   "execution_count": 3,
   "metadata": {},
   "outputs": [
    {
     "data": {
      "text/plain": [
       "simulatear"
      ]
     },
     "execution_count": 3,
     "metadata": {},
     "output_type": "execute_result"
    }
   ],
   "source": [
    "\"\"\"\n",
    "Simulate T draws from an AR(1) with drift, starting at x0, with Normal(0,1) innovations.\n",
    "Return x0, x1, ..., xT\n",
    "\"\"\"\n",
    "function simulatear(α, β, x0, T)\n",
    "    ϵ = randn(T)\n",
    "    x = zeros(T)\n",
    "    x_last = x0\n",
    "    for t in 1:T\n",
    "        x[t] = α + β*x_last + ϵ[t]\n",
    "        x_last = x[t]\n",
    "    end\n",
    "    return [x0; x]\n",
    "end"
   ]
  },
  {
   "cell_type": "code",
   "execution_count": 4,
   "metadata": {},
   "outputs": [],
   "source": [
    "# Tests\n",
    "# x0 is being passed back first, as expected\n",
    "@assert simulatear(0, 0, 0, 1)[1] == 0\n",
    "# when α is big it goes far\n",
    "@assert simulatear(100, 0, 0, 1)[2] > 50"
   ]
  },
  {
   "cell_type": "code",
   "execution_count": 5,
   "metadata": {},
   "outputs": [
    {
     "data": {
      "text/plain": [
       "olsar"
      ]
     },
     "execution_count": 5,
     "metadata": {},
     "output_type": "execute_result"
    }
   ],
   "source": [
    "\"\"\"\n",
    "Estimate the parameters of an AR(1) using OLS.\n",
    "Return the parameter vector, [α,β]\n",
    "\"\"\"\n",
    "function olsar(x)\n",
    "    predictors = x[1:end-1]\n",
    "    Xmat = [ones(size(predictors)[1]) predictors]\n",
    "    outcomes = x[2:end]\n",
    "    return Xmat\\outcomes\n",
    "end"
   ]
  },
  {
   "cell_type": "code",
   "execution_count": 6,
   "metadata": {},
   "outputs": [],
   "source": [
    "# Tests\n",
    "@assert olsar([0,1,2,3]) ≈ [1.0,1.0]\n",
    "@assert olsar([0,0,0,0]) ≈ [0.0,0.0]"
   ]
  },
  {
   "cell_type": "code",
   "execution_count": 7,
   "metadata": {},
   "outputs": [
    {
     "data": {
      "text/plain": [
       "2-element Array{Float64,1}:\n",
       " 0.3367288004821376\n",
       " 0.11304576023336875"
      ]
     },
     "execution_count": 7,
     "metadata": {},
     "output_type": "execute_result"
    }
   ],
   "source": [
    "α = 0.5\n",
    "β = 0.1\n",
    "x = simulatear(α, β, 0, 100)\n",
    "olsar(x)"
   ]
  },
  {
   "cell_type": "code",
   "execution_count": null,
   "metadata": {},
   "outputs": [],
   "source": []
  }
 ],
 "metadata": {
  "kernelspec": {
   "display_name": "Julia 1.5.0",
   "language": "julia",
   "name": "julia-1.5"
  },
  "language_info": {
   "file_extension": ".jl",
   "mimetype": "application/julia",
   "name": "julia",
   "version": "1.5.0"
  }
 },
 "nbformat": 4,
 "nbformat_minor": 4
}
